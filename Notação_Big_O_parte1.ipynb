{
  "nbformat": 4,
  "nbformat_minor": 0,
  "metadata": {
    "colab": {
      "name": "Notação Big-O - parte1.ipynb",
      "provenance": [],
      "authorship_tag": "ABX9TyOAQjHzgAkrZ4w+fOfSvfP+",
      "include_colab_link": true
    },
    "kernelspec": {
      "name": "python3",
      "display_name": "Python 3"
    },
    "language_info": {
      "name": "python"
    }
  },
  "cells": [
    {
      "cell_type": "markdown",
      "metadata": {
        "id": "view-in-github",
        "colab_type": "text"
      },
      "source": [
        "<a href=\"https://colab.research.google.com/github/CarlosAlfredoOliveiraDeLima/Estrutura_de_Dados-AIExpertAcademy/blob/main/Nota%C3%A7%C3%A3o_Big_O_parte1.ipynb\" target=\"_parent\"><img src=\"https://colab.research.google.com/assets/colab-badge.svg\" alt=\"Open In Colab\"/></a>"
      ]
    },
    {
      "cell_type": "markdown",
      "metadata": {
        "id": "HjtOZ-wE8wwT"
      },
      "source": [
        ""
      ]
    }
  ]
}