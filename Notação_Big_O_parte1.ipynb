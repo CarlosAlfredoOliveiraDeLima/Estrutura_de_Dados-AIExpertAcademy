{
  "nbformat": 4,
  "nbformat_minor": 0,
  "metadata": {
    "colab": {
      "name": "Notação Big-O - parte1.ipynb",
      "provenance": [],
      "collapsed_sections": [],
      "authorship_tag": "ABX9TyOeBK43Vp8du7dI3dhyegi5",
      "include_colab_link": true
    },
    "kernelspec": {
      "name": "python3",
      "display_name": "Python 3"
    },
    "language_info": {
      "name": "python"
    }
  },
  "cells": [
    {
      "cell_type": "markdown",
      "metadata": {
        "id": "view-in-github",
        "colab_type": "text"
      },
      "source": [
        "<a href=\"https://colab.research.google.com/github/CarlosAlfredoOliveiraDeLima/Estrutura_de_Dados-AIExpertAcademy/blob/main/Nota%C3%A7%C3%A3o_Big_O_parte1.ipynb\" target=\"_parent\"><img src=\"https://colab.research.google.com/assets/colab-badge.svg\" alt=\"Open In Colab\"/></a>"
      ]
    },
    {
      "cell_type": "markdown",
      "metadata": {
        "id": "HjtOZ-wE8wwT"
      },
      "source": [
        "# Notação Big-O\n",
        "\n",
        "* Como comparar dois algoritmos?\n",
        "* Comparação objetiva entre algoritmos.\n",
        "* Considera diferenças entre poder de processamento, sistema operacional, linguagem de programação.\n",
        "* O quanto a \"complexidade\" do algoritmo aumenta de acordo com as entradas\n",
        "\n"
      ]
    },
    {
      "cell_type": "markdown",
      "metadata": {
        "id": "ZKaKQyRRXe6c"
      },
      "source": [
        "# Função 1 - O(n)"
      ]
    },
    {
      "cell_type": "code",
      "metadata": {
        "id": "RssSgpr6Xi53"
      },
      "source": [
        ""
      ],
      "execution_count": null,
      "outputs": []
    }
  ]
}